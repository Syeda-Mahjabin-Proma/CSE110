{
 "cells": [
  {
   "cell_type": "markdown",
   "metadata": {
    "id": "xDNsncrtU1yM"
   },
   "source": [
    "# CSE110 Lab Assignment 4\n",
    "\n",
    "This Assignment is to help you develop your concept of Lists in Python."
   ]
  },
  {
   "cell_type": "markdown",
   "metadata": {
    "id": "gh4GUDaIU1yO"
   },
   "source": [
    "\n",
    "\n",
    "\n",
    "\n",
    "\n",
    "\n",
    "##Write your name, student ID and CSE110 theory section number below:\n",
    "\n",
    "\n",
    "\n",
    "\n",
    "\n"
   ]
  },
  {
   "cell_type": "code",
   "execution_count": null,
   "metadata": {
    "id": "OAYfzLIqgqyE"
   },
   "outputs": [],
   "source": [
    "#STUDENT NAME: Syeda Mahjabin Proma\n",
    "#STUDENT ID: 21101131\n",
    "#CSE110 THEORY SECTION: 11"
   ]
  },
  {
   "cell_type": "markdown",
   "metadata": {
    "id": "KD4EKJf6U1yQ"
   },
   "source": [
    "## Write the code in Python to do the following tasks:\n",
    "\n",
    "**<font color='red'>[MUST MAINTAIN VARIABLE NAMING CONVENTIONS FOR ALL THE TASKS]</font>**"
   ]
  },
  {
   "cell_type": "markdown",
   "metadata": {
    "id": "pbdeIVcyU1yi"
   },
   "source": [
    "### Task 1\n",
    "Write a Python program that reads 10 numbers from the user into a list. After reading each number, print all the numbers that have been entered so far in the list. \n",
    "\n",
    "**Example:**\\\n",
    "After the user enters 3, prints “Numbers in the list: [3]”\\\n",
    "After the user enters 5, prints “Numbers in the list: [3, 5]”\\\n",
    "After the user enters 34, prints “Numbers in the list: [3, 5, 34]”\\\n",
    ".... and so on"
   ]
  },
  {
   "cell_type": "code",
   "execution_count": 1,
   "metadata": {
    "id": "A5df9pmJU1yj"
   },
   "outputs": [
    {
     "name": "stdout",
     "output_type": "stream",
     "text": [
      "Enter a Number: 1\n",
      "[1]\n",
      "Enter a Number: 2\n",
      "[1, 2]\n",
      "Enter a Number: 3\n",
      "[1, 2, 3]\n",
      "Enter a Number: 4\n",
      "[1, 2, 3, 4]\n",
      "Enter a Number: 5\n",
      "[1, 2, 3, 4, 5]\n",
      "Enter a Number: 6\n",
      "[1, 2, 3, 4, 5, 6]\n",
      "Enter a Number: 7\n",
      "[1, 2, 3, 4, 5, 6, 7]\n",
      "Enter a Number: 8\n",
      "[1, 2, 3, 4, 5, 6, 7, 8]\n",
      "Enter a Number: 9\n",
      "[1, 2, 3, 4, 5, 6, 7, 8, 9]\n",
      "Enter a Number: 10\n",
      "[1, 2, 3, 4, 5, 6, 7, 8, 9, 10]\n"
     ]
    }
   ],
   "source": [
    "list=[]\n",
    "for x in range(10):\n",
    "    n = int(input(\"Enter a Number: \"))\n",
    "    list.append(n)\n",
    "    print(list)"
   ]
  },
  {
   "cell_type": "markdown",
   "metadata": {
    "id": "ZrjtT-I_U1zD"
   },
   "source": [
    "### Task 2\n",
    "\n",
    "Write a Python program that takes a list as an input from the user.Then creates a new list excluding the first and last two elements of the given list and prints the new list. If there are not enough elements in the list to do the task, the print \"Not possible\".\n",
    "\n",
    "**Note:** You may use list slicing.\n",
    "\n",
    "===================================================================\n",
    "\n",
    "**Sample Input 1:**<br/>\n",
    "[10, 20, 24, 25, 26, 35, 70]<br/>\n",
    "**Sample Output 1:**<br/>\n",
    "[24, 25, 26]<br/>\n",
    "\n",
    "===================================================================\n",
    "\n",
    "**Sample Input 2:**<br/>\n",
    "[10, 20, 24, 25, 26]<br/>\n",
    "**Sample Output 2:**<br/>\n",
    "[24]<br/>\n",
    "\n",
    "===================================================================\n",
    "\n",
    "**Sample Input 3:**<br/>\n",
    "[10, 20, 24, 25]<br/>\n",
    "**Sample Output 3:**<br/>\n",
    "[]<br/>\n",
    "\n",
    "===================================================================\n",
    "\n",
    "**Sample Input 4:**<br/>\n",
    "[10, 20, 24]<br/>\n",
    "**Sample Output 4:**<br/>\n",
    "Not possible<br/>\n",
    "\n",
    "==================================================================="
   ]
  },
  {
   "cell_type": "code",
   "execution_count": 1,
   "metadata": {
    "id": "3r7Ripj7U1zE"
   },
   "outputs": [
    {
     "name": "stdout",
     "output_type": "stream",
     "text": [
      "How many elements would you like to enter? 4\n",
      "Enter a Number: 2\n",
      "Enter a Number: 4\n",
      "Enter a Number: 3\n",
      "Enter a Number: 5\n",
      "Your Numbers are :  [2, 4, 3, 5]\n",
      "Your output is:  []\n"
     ]
    }
   ],
   "source": [
    "list=[]\n",
    "n=int(input(\"How many elements would you like to enter? \"))\n",
    "if n<4:\n",
    "    print(\"Not possible\")\n",
    "else:\n",
    "    for x in range(0,n):\n",
    "        a=int(input(\"Enter a Number: \"))\n",
    "        list.append(a)\n",
    "    print(\"Your Numbers are : \", (list[0::1]))\n",
    "    list2=list[2:-2]\n",
    "    print(\"Your output is: \",list2)"
   ]
  },
  {
   "cell_type": "markdown",
   "metadata": {
    "id": "AWgZaBZCzmaM"
   },
   "source": [
    "### Task 3\n",
    "\n",
    "Write a python program that reads 5 numbers from the user into a list, and then prints them in the reverse order.\n",
    "\n",
    "*Hint: You may create a list to store the input numbers and then use loop to print them in reverse order*\n",
    "\n",
    "===================================================================\n",
    "\n",
    "**Sample Input:**\\\n",
    "5\\\n",
    "-5\\\n",
    "100\\\n",
    "1\\\n",
    "0\n",
    "\n",
    "**Sample Output:**\\\n",
    "0\\\n",
    "1\\\n",
    "100\\\n",
    "-5\\\n",
    "5\n",
    "\n",
    "==================================================================="
   ]
  },
  {
   "cell_type": "code",
   "execution_count": 10,
   "metadata": {
    "id": "ICW-03YOznTp"
   },
   "outputs": [
    {
     "name": "stdout",
     "output_type": "stream",
     "text": [
      "Enter a Number: 1\n",
      "Enter a Number: 2\n",
      "Enter a Number: 3\n",
      "Enter a Number: 4\n",
      "Enter a Number: 5\n",
      "5\n",
      "4\n",
      "3\n",
      "2\n",
      "1\n"
     ]
    }
   ],
   "source": [
    "#to do\n",
    "list_1=[]\n",
    "for x in range(0,5):\n",
    "    n=int(input(\"Enter a Number: \"))\n",
    "    list_1.append(n)\n",
    "\n",
    "for x in range(5):\n",
    "    print(list_1[-(x+1)])"
   ]
  },
  {
   "cell_type": "markdown",
   "metadata": {
    "id": "7a_1pYjfU1zI"
   },
   "source": [
    "### Task 4\n",
    "Assume, you have been given two lists. [Your program should work for any two given lists; change the following lists and check whether your program works correctly for the code you have written]\n",
    "\n",
    "list_one = [1, 2, 3, 4, 5, 6, 7, 8, 9]\\\n",
    "list_two = [10, 11, 12, -13, -14, -15, -16]\n",
    "\n",
    "Write a Python program that creates a new list with all the **even elements** of both of the given lists and prints the new list.\n",
    "\n",
    "**Hint:** You may create a third list to store the even elements of the given lists.\n",
    "\n",
    "===================================================================\n",
    "\n",
    "**Output for the above lists:** [2, 4, 6, 8, 10, 12, -14, -16]\n",
    "\n",
    "==================================================================="
   ]
  },
  {
   "cell_type": "code",
   "execution_count": 7,
   "metadata": {
    "id": "vToa7yazU1zI"
   },
   "outputs": [
    {
     "name": "stdout",
     "output_type": "stream",
     "text": [
      "How many number would you like to enter in list 1? 5\n",
      "Enter a Number: 2\n",
      "Enter a Number: -4\n",
      "Enter a Number: 5\n",
      "Enter a Number: 6\n",
      "Enter a Number: -9\n",
      "How many number would you like to enter in list 2? 4\n",
      "Enter a Number: 2\n",
      "Enter a Number: 5\n",
      "Enter a Number: 4\n",
      "Enter a Number: 8\n",
      "Your First List is:  [2, -4, 5, 6, -9]\n",
      "Your Second List is:  [2, 5, 4, 8]\n",
      "Your Output is:  [2, -4, 6, 2, 4, 8]\n"
     ]
    }
   ],
   "source": [
    "#to do\n",
    "list_1=[]\n",
    "list_2=[]\n",
    "list_3=[]\n",
    "list_4=[]\n",
    "n=int(input(\"How many number would you like to enter in list 1? \"))\n",
    "for x in range(0,n):\n",
    "    a=int(input(\"Enter a Number: \"))\n",
    "    list_1.append(a)\n",
    "n=int(input(\"How many number would you like to enter in list 2? \"))\n",
    "for x in range(0,n):\n",
    "    a=int(input(\"Enter a Number: \"))\n",
    "    list_2.append(a)\n",
    "for x in list_1:\n",
    "    if x%2==0:\n",
    "        list_3.append(x)\n",
    "    else:\n",
    "        continue\n",
    "for x in list_2:\n",
    "    if x%2==0:\n",
    "        list_4.append(x)\n",
    "    else:\n",
    "        continue\n",
    "print(\"Your First List is: \", (list_1[0::1]))\n",
    "print(\"Your Second List is: \", (list_2[0::1]))\n",
    "print(\"Your Output is: \",list_3+list_4)"
   ]
  },
  {
   "cell_type": "markdown",
   "metadata": {
    "id": "QaD4hLn92EKT"
   },
   "source": [
    "### Task 5\n",
    "\n",
    "Write a Python program that takes numbers as input into a list, removes multiple occurences of any number and then finally prints a list **without duplicate values**.\n",
    "\n",
    "*Hint: You may create a third list to store the results. You can use membership operators (in, not in) to make sure no duplicates are added.*\n",
    "\n",
    "===================================================================\n",
    "\n",
    "**Sample Input 1:**<br/>\n",
    "0, 0, 1, 2, 3, 4, 4, 5, 6, 6, 6, 7, 8, 9, 4, 4<br/>\n",
    "\n",
    "\n",
    "**Sample Output 1:**<br/>\n",
    "[0, 1, 2, 3, 4, 5, 6, 7, 8, 9]<br/>\n",
    "\n",
    "===================================================================\n",
    "\n",
    "**Sample Input 2:**<br/>\n",
    "7, 7, 7, 1, 0, 3, 3, 55, 9<br/>\n",
    "\n",
    "\n",
    "**Sample Output 2:**<br/>\n",
    "[7, 1, 0, 3, 55, 9]<br/>\n",
    "\n",
    "==================================================================="
   ]
  },
  {
   "cell_type": "code",
   "execution_count": 8,
   "metadata": {
    "id": "EUbQbz5hU1zP"
   },
   "outputs": [
    {
     "name": "stdout",
     "output_type": "stream",
     "text": [
      "How many number would you like to enter in list 1? 9\n",
      "Enter a Number: 7\n",
      "Enter a Number: 7\n",
      "Enter a Number: 7\n",
      "Enter a Number: 1\n",
      "Enter a Number: 0\n",
      "Enter a Number: 3\n",
      "Enter a Number: 3\n",
      "Enter a Number: 55\n",
      "Enter a Number: 9\n",
      "Input:  [7, 7, 7, 1, 0, 3, 3, 55, 9]\n",
      "Output:  [7, 1, 0, 3, 55, 9]\n"
     ]
    }
   ],
   "source": [
    "#to do\n",
    "list_1=[]\n",
    "list_2=[]\n",
    "n=int(input(\"How many number would you like to enter in list 1? \"))\n",
    "for x in range(0,n):\n",
    "    a=int(input(\"Enter a Number: \"))\n",
    "    list_1.append(a)\n",
    "for x in list_1:\n",
    "    if x in list_2:\n",
    "        continue\n",
    "    else:\n",
    "        list_2.append(x)\n",
    "print(\"Input: \", list_1)\n",
    "print(\"Output: \", list_2)"
   ]
  },
  {
   "cell_type": "markdown",
   "metadata": {
    "id": "wfcSytFVU1zU"
   },
   "source": [
    "### Task 6\n",
    "\n",
    "Write a Python program that reads 5 numbers into a list and prints the largest number and its location or index position on the list. <font color='red'>[You are not allowed to use the max(), sort(), sorted() function here]</font>\n",
    "\n",
    "**Hint:** Assume the first input to be the largest value initially and the largest value’s location to be 0.\n",
    "\n",
    "**Note:** You may need to be careful while printing the output. Depending on your code, you might need data conversion.\n",
    "\n",
    "===================================================================\n",
    "\n",
    "**Sample Input:**\\\n",
    " 7, 13, 2, 10, 6\n",
    "\n",
    "**Sample Output:**\\\n",
    "My list: [7, 13, 2, 10, 6]\\\n",
    "Largest number in the list is 13 which was found at index 1.\n",
    "\n",
    "==================================================================="
   ]
  },
  {
   "cell_type": "code",
   "execution_count": 1,
   "metadata": {
    "id": "kXbEh1t3U1zV"
   },
   "outputs": [
    {
     "name": "stdout",
     "output_type": "stream",
     "text": [
      "Enter a Number: 1\n",
      "Enter a Number: 2\n",
      "Enter a Number: 13\n",
      "Enter a Number: 2\n",
      "Enter a Number: 3\n",
      "My List:  [1, 2, 13, 2, 3]\n",
      "Largest number in the list is  13  which was found at index 2\n"
     ]
    }
   ],
   "source": [
    "#to do\n",
    "my_list=[]\n",
    "max_num=0\n",
    "max_ind=0\n",
    "for x in range(0,5):\n",
    "    a=int(input(\"Enter a Number: \"))\n",
    "    my_list.append(a)\n",
    "for x in range(5):\n",
    "    if max_num<my_list[x]:\n",
    "        max_num=my_list[x]\n",
    "        max_ind=x\n",
    "    else:\n",
    "        continue\n",
    "print(\"My List: \",my_list)\n",
    "print(\"Largest number in the list is \",max_num,\" which was found at index\",max_ind)"
   ]
  },
  {
   "cell_type": "markdown",
   "metadata": {
    "id": "nwRZ3_0tC3fq"
   },
   "source": [
    "### Task 7\n",
    "\n",
    "\n",
    "Assume, you have been given two lists. [Your program should work for any two given lists; make changes to the lists below and check whether your program works correctly]\n",
    "\n",
    "list_one = [1, 2 , 2, 4, 5, 5, 7, 99, 200, 303, 70]\\\n",
    "list_two = [1, 1, 2, 3, 3, 3, 4, 5, 200, 500, -5]\n",
    "\n",
    "Write a Python program that creates a new list with all the **unique elements** of both the given lists. \n",
    "<font color='red'> **You need to make sure that there are no duplicates in the resulting list.**</font> Finally, print the updated list.\n",
    "\n",
    "**Hint:** You may create a third list to store the results. You can use membership operators (in, not in) to make sure no duplicates are added.\n",
    "\n",
    "===================================================================\n",
    "\n",
    "**Output for the above two lists**: \n",
    "[1, 2, 4, 5, 7, 99, 200, 303, 70, 3, 500, -5]\n",
    "\n",
    "===================================================================\n",
    "\n"
   ]
  },
  {
   "cell_type": "code",
   "execution_count": 9,
   "metadata": {
    "id": "LEnaTlyoMJdS"
   },
   "outputs": [
    {
     "name": "stdout",
     "output_type": "stream",
     "text": [
      "How many number would you like to enter in list 1? 11\n",
      "Enter a Number: 1\n",
      "Enter a Number: 2\n",
      "Enter a Number: 2\n",
      "Enter a Number: 4\n",
      "Enter a Number: 5\n",
      "Enter a Number: 5\n",
      "Enter a Number: 7\n",
      "Enter a Number: 99\n",
      "Enter a Number: 200\n",
      "Enter a Number: 303\n",
      "Enter a Number: 70\n",
      "How many number would you like to enter in list 2? 11\n",
      "Enter a Number: 1\n",
      "Enter a Number: 1\n",
      "Enter a Number: 2\n",
      "Enter a Number: 3\n",
      "Enter a Number: 3\n",
      "Enter a Number: 3\n",
      "Enter a Number: 4\n",
      "Enter a Number: 5\n",
      "Enter a Number: 200\n",
      "Enter a Number: 500\n",
      "Enter a Number: 5\n",
      "First List:  [1, 2, 2, 4, 5, 5, 7, 99, 200, 303, 70]\n",
      "Second List:  [1, 1, 2, 3, 3, 3, 4, 5, 200, 500, 5]\n",
      "Output:  [1, 2, 4, 5, 7, 99, 200, 303, 70, 3, 500]\n"
     ]
    }
   ],
   "source": [
    "list_1=[]\n",
    "list_2=[]\n",
    "list_3=[]\n",
    "list_4=[]\n",
    "n=int(input(\"How many number would you like to enter in list 1? \"))\n",
    "for x in range(0,n):\n",
    "    a=int(input(\"Enter a Number: \"))\n",
    "    list_1.append(a)\n",
    "n=int(input(\"How many number would you like to enter in list 2? \"))\n",
    "for x in range(0,n):\n",
    "    a=int(input(\"Enter a Number: \"))\n",
    "    list_2.append(a)\n",
    "list_3=list_1+list_2\n",
    "for x in list_3:\n",
    "    if x in list_4:\n",
    "        continue\n",
    "    else:\n",
    "        list_4.append(x)\n",
    "print(\"First List: \", list_1)\n",
    "print(\"Second List: \", list_2)\n",
    "print(\"Output: \",list_4)"
   ]
  },
  {
   "cell_type": "markdown",
   "metadata": {
    "id": "bvF30RQlemBW"
   },
   "source": [
    "### Task 8\n",
    "\n",
    "Write a Python program that takes two lists and prints True if they have at least one common member.\n",
    "\n",
    "===================================================================\n",
    "\n",
    "**Sample Input 1:**\\\n",
    "List_one : [1, 4, 3, 2, 6]\\\n",
    "List_two : [5, 6, 9, 8, 7]\n",
    "\n",
    "**Sample Output 1:**\\\n",
    "True\n",
    "\n",
    "===================================================================\n",
    "\n",
    "**Sample Input 2:**\\\n",
    "List_one : [1, 4, 3, 2, 5]\\\n",
    "List_two : [8, 7, 6, 9]\n",
    "\n",
    "**Sample Output 2:**\\\n",
    "False\n",
    "\n",
    "===================================================================\n"
   ]
  },
  {
   "cell_type": "code",
   "execution_count": 6,
   "metadata": {
    "id": "yIlAlqlGe7IA"
   },
   "outputs": [
    {
     "name": "stdout",
     "output_type": "stream",
     "text": [
      "How many number would you like to enter in list 1? 5\n",
      "Enter a Number: 1\n",
      "Enter a Number: 2\n",
      "Enter a Number: 3\n",
      "Enter a Number: 4\n",
      "Enter a Number: 5\n",
      "List One:  [1, 2, 3, 4, 5]\n",
      "How many number would you like to enter in list 2? 4\n",
      "Enter a Number: 9\n",
      "Enter a Number: 8\n",
      "Enter a Number: 7\n",
      "Enter a Number: 6\n",
      "List Two:  [9, 8, 7, 6]\n",
      "False\n"
     ]
    }
   ],
   "source": [
    "list_1=[]\n",
    "list_2=[]\n",
    "n=int(input(\"How many number would you like to enter in list 1? \"))\n",
    "for x in range(0,n):\n",
    "    a=int(input(\"Enter a Number: \"))\n",
    "    list_1.append(a)\n",
    "print(\"List One: \", (list_1[0::1]))\n",
    "n=int(input(\"How many number would you like to enter in list 2? \"))\n",
    "for x in range(0,n):\n",
    "    a=int(input(\"Enter a Number: \"))\n",
    "    list_2.append(a)\n",
    "print(\"List Two: \", (list_2[0::1]))\n",
    "count=0\n",
    "for i in list_1 :\n",
    "    if i in list_2 :\n",
    "        count+=1\n",
    "\n",
    "if count == 1 :\n",
    "    print(\"True\")\n",
    "else :\n",
    "    print(\"False\")"
   ]
  },
  {
   "cell_type": "markdown",
   "metadata": {
    "id": "vyFt-Ra5erR4"
   },
   "source": [
    "### Task 9\n",
    "\n",
    "Write a Python program that reads 10 numbers into a list and prints the numbers of that specified list after removing **even numbers** from it.\n",
    "\n",
    "=========================================================================\n",
    "\n",
    "**Sample Input:**\n",
    "\n",
    "7,12,4,55,96,2,11,61,33,42\n",
    "\n",
    "**Sample Output:**\n",
    "\n",
    "[7, 55, 11, 61, 33]\n",
    "\n",
    "=========================================================================\n",
    "\n",
    "\n",
    "\n"
   ]
  },
  {
   "cell_type": "code",
   "execution_count": 2,
   "metadata": {
    "id": "1U3bswq9e9B3"
   },
   "outputs": [
    {
     "name": "stdout",
     "output_type": "stream",
     "text": [
      "Enter a Number: 7\n",
      "Enter a Number: 12\n",
      "Enter a Number: 4\n",
      "Enter a Number: 55\n",
      "Enter a Number: 96\n",
      "Enter a Number: 2\n",
      "Enter a Number: 11\n",
      "Enter a Number: 61\n",
      "Enter a Number: 33\n",
      "Enter a Number: 42\n",
      "Your Input is:  [7, 12, 4, 55, 96, 2, 11, 61, 33, 42]\n",
      "Your Output is:  [7, 55, 11, 61, 33]\n"
     ]
    }
   ],
   "source": [
    "#to do\n",
    "list_1=[]\n",
    "list_2=[]\n",
    "for x in range(10):\n",
    "    n = int(input(\"Enter a Number: \"))\n",
    "    list_1.append(n)\n",
    "print(\"Your Input is: \",list_1)\n",
    "for i in list_1:\n",
    "    if i%2==0:\n",
    "        continue\n",
    "    else:\n",
    "        list_2.append(i)\n",
    "print(\"Your Output is: \",list_2)"
   ]
  },
  {
   "cell_type": "markdown",
   "metadata": {
    "id": "G9jPuLWOetqd"
   },
   "source": [
    "### Task 10\n",
    "\n",
    "Write a Python program that removes all Empty strings from a given list and print the new list.\n",
    "\n",
    "=========================================================================\n",
    "\n",
    "**Sample Input:**\n",
    "\n",
    "[\"hey\", \"there\", \" \", \"what's\", \" \", \"up\", \" \", \"?\"]\n",
    "\n",
    "**Sample Output:**\n",
    "\n",
    "Original List:\n",
    "[\"hey\", \"there\", \" \", \"what's\", \" \", \"up\", \" \", \"?\"]\n",
    "\n",
    "Modified List:\n",
    "[\"hey\", \"there\", \"what's\", \"up\", \"?\"]\n",
    "\n",
    "==========================================================================\n",
    "\n",
    "\n"
   ]
  },
  {
   "cell_type": "code",
   "execution_count": 3,
   "metadata": {
    "id": "OlrhifBge-TA"
   },
   "outputs": [
    {
     "name": "stdout",
     "output_type": "stream",
     "text": [
      "How many string would you like to enter? 8\n",
      "Enter a string: hey\n",
      "Enter a string: there\n",
      "Enter a string: \n",
      "Enter a string: what's\n",
      "Enter a string: \n",
      "Enter a string: up\n",
      "Enter a string: \n",
      "Enter a string: \n",
      "Original List:  ['hey', 'there', '', \"what's\", '', 'up', '', '']\n",
      "Modified List:  ['hey', 'there', \"what's\", 'up']\n"
     ]
    }
   ],
   "source": [
    "#to do\n",
    "list_1=[]\n",
    "list_2=[]\n",
    "n=int(input(\"How many string would you like to enter? \"))\n",
    "for x in range(0,n):\n",
    "    a=input(\"Enter a string: \")\n",
    "    list_1.append(a)\n",
    "print(\"Original List: \", (list_1[0::1]))\n",
    "for x in list_1:\n",
    "    if x==\"\":\n",
    "        continue\n",
    "    else:\n",
    "        list_2.append(x)\n",
    "print(\"Modified List: \", list_2)"
   ]
  },
  {
   "cell_type": "markdown",
   "metadata": {
    "id": "UjTy79X6ewce"
   },
   "source": [
    "## Task 11\n",
    "\n",
    "Write a Python program that replaces the last element of first list with second list.\n",
    "\n",
    "===================================================================\n",
    "\n",
    "**Sample Input 1:**\\\n",
    "List_one : [1, 4, 7, 5]\\\n",
    "List_two : [6, 1, 3, 9]\n",
    "\n",
    "**Sample Output 1:**\\\n",
    "[1, 4, 7, 6, 1, 3, 9]\n",
    "\n",
    "===================================================================\n",
    "\n",
    "**Sample Input 2:**\\\n",
    "List_one : [1, 3, 5, 7, 9, 10]\\\n",
    "List_two : [2, 4, 6, 8]\n",
    "\n",
    "**Sample Output 2:**\\\n",
    "[1, 3, 5, 7, 9, 2, 4, 6, 8]\n",
    "\n",
    "===================================================================\n",
    "\n",
    "\n",
    "\n"
   ]
  },
  {
   "cell_type": "code",
   "execution_count": 4,
   "metadata": {
    "id": "bBseKJuse_bX"
   },
   "outputs": [
    {
     "name": "stdout",
     "output_type": "stream",
     "text": [
      "How many number would you like to enter in list 1? 6\n",
      "Enter a Number: 1\n",
      "Enter a Number: 3\n",
      "Enter a Number: 5\n",
      "Enter a Number: 7\n",
      "Enter a Number: 9\n",
      "Enter a Number: 10\n",
      "Your First List is:  [1, 3, 5, 7, 9, 10]\n",
      "How many number would you like to enter in list 2? 4\n",
      "Enter a Number: 2\n",
      "Enter a Number: 4\n",
      "Enter a Number: 6\n",
      "Enter a Number: 8\n",
      "Your Second List is:  [2, 4, 6, 8]\n",
      "Output is:  [1, 3, 5, 7, 9, 2, 4, 6, 8]\n"
     ]
    }
   ],
   "source": [
    "#to do\n",
    "list_1=[]\n",
    "list_2=[]\n",
    "n=int(input(\"How many number would you like to enter in list 1? \"))\n",
    "for x in range(0,n):\n",
    "    a=int(input(\"Enter a Number: \"))\n",
    "    list_1.append(a)\n",
    "print(\"Your First List is: \", (list_1[0::1]))\n",
    "n=int(input(\"How many number would you like to enter in list 2? \"))\n",
    "for x in range(0,n):\n",
    "    a=int(input(\"Enter a Number: \"))\n",
    "    list_2.append(a)\n",
    "print(\"Your Second List is: \", (list_2[0::1]))\n",
    "list_1.pop()\n",
    "print(\"Output is: \", list_1+list_2)"
   ]
  },
  {
   "cell_type": "markdown",
   "metadata": {
    "id": "4pBLPmvre0jv"
   },
   "source": [
    "### Task 12\n",
    "\n",
    "Write a Python program that turns every item of a list into its square.\n",
    "\n",
    "===================================================================\n",
    "\n",
    "**Sample Input 1:**\\\n",
    "[1, 2, 3, 4, 5, 6, 7]\n",
    "\n",
    "**Sample Output 1:**\\\n",
    "[1, 4, 9, 16, 25, 36, 49]\n",
    "\n",
    "===================================================================\n",
    "\n",
    "**Sample Input 2:**\\\n",
    "[3, 5, 1, 6]\n",
    "\n",
    "**Sample Output 2:**\\\n",
    "[9, 25, 1, 36]\n",
    "\n",
    "\n",
    "===================================================================\n",
    "\n",
    "\n",
    "\n",
    "\n",
    "\n"
   ]
  },
  {
   "cell_type": "code",
   "execution_count": 5,
   "metadata": {
    "id": "5NDg0odDfANt"
   },
   "outputs": [
    {
     "name": "stdout",
     "output_type": "stream",
     "text": [
      "How many number would you like to enter? 4\n",
      "Enter a Number: 2\n",
      "Enter a Number: 4\n",
      "Enter a Number: 5\n",
      "Enter a Number: 6\n",
      "Your Numbers are :  [2, 4, 5, 6]\n",
      "Squares of your numbers are:  [4, 16, 25, 36]\n"
     ]
    }
   ],
   "source": [
    "#to do\n",
    "list=[]\n",
    "squared_list=[]\n",
    "n=int(input(\"How many number would you like to enter? \"))\n",
    "for x in range(0,n):\n",
    "    a=int(input(\"Enter a Number: \"))\n",
    "    list.append(a)\n",
    "print(\"Your Numbers are : \", (list[0::1]))\n",
    "for i in list:\n",
    "    squared_list.append(i**2)\n",
    "print(\"Squares of your numbers are: \", squared_list)"
   ]
  },
  {
   "cell_type": "markdown",
   "metadata": {
    "id": "WZXnxHTdGrMC"
   },
   "source": [
    "## Optional Tasks (13-15) [Ungraded]"
   ]
  },
  {
   "cell_type": "markdown",
   "metadata": {
    "id": "lvSiLaobU1zY"
   },
   "source": [
    "### Task 13\n",
    "\n",
    "Write a Python program that reads 5 numbers into a list and prints the smallest and largest number and their locations in the list. <font color='red'>[You are not allowed to use the max(), min(), sort(), sorted() functions here]</font>\n",
    "\n",
    "**Hint:** You may assume the first input to be the largest value initially and the largest value’s location to be 0. Similarly, you can assume the first input to be the smallest value initially and the smallest value’s location to be 0. \n",
    "\n",
    "**Note:** You may need to be careful while printing the output. Depending on your code, you might need data conversion.\n",
    "\n",
    "===================================================================\n",
    "\n",
    "**Sample Input:**\\\n",
    "7, 13, -5, 10, 6\n",
    "\n",
    "**Sample Output:**\\\n",
    "My list: [7, 13, -5, 10, 6]\\\n",
    "Smallest number in the list is -5 which was found at index 2\\\n",
    "Largest number in the list is 13 which was found at index 1\n",
    "\n",
    "==================================================================="
   ]
  },
  {
   "cell_type": "code",
   "execution_count": 2,
   "metadata": {
    "id": "yiS5TWSDU1zY"
   },
   "outputs": [
    {
     "name": "stdout",
     "output_type": "stream",
     "text": [
      "Enter a Number: 2\n",
      "Enter a Number: 3\n",
      "Enter a Number: 14\n",
      "Enter a Number: -6\n",
      "Enter a Number: 7\n",
      "My List:  [2, 3, 14, -6, 7]\n",
      "Largest number in the list is  14  which was found at index 2\n",
      "Smallest number in the list is  -6  which was found at index 3\n"
     ]
    }
   ],
   "source": [
    "#to do\n",
    "my_list=[]\n",
    "max_num=0\n",
    "max_ind=0\n",
    "min_num=0\n",
    "min_ind=0\n",
    "for x in range(0,5):\n",
    "    a=int(input(\"Enter a Number: \"))\n",
    "    my_list.append(a)\n",
    "for x in range(5):\n",
    "    if max_num<my_list[x]:\n",
    "        max_num=my_list[x]\n",
    "        max_ind=x\n",
    "    else:\n",
    "        continue\n",
    "for x in range(5):\n",
    "    if min_num>my_list[x]:\n",
    "        min_num=my_list[x]\n",
    "        min_ind=x\n",
    "    else:\n",
    "        continue\n",
    "print(\"My List: \",my_list)\n",
    "print(\"Largest number in the list is \",max_num,\" which was found at index\",max_ind)\n",
    "print(\"Smallest number in the list is \",min_num,\" which was found at index\",min_ind)"
   ]
  },
  {
   "cell_type": "markdown",
   "metadata": {
    "id": "rguDZ8SBCHD8"
   },
   "source": [
    "### Task 14\n",
    "Write a Python program that takes two lists as an input from the user. Then print a new list with the **common elements** of both the input lists. \n",
    "\n",
    "*Hint: You may need to create a third list to store the results. You can use membership operators (in, not in) to make sure similar elements are added.*\n",
    "\n",
    "===================================================================\n",
    "\n",
    "**Sample Input 1:**<br/>\n",
    "A, B, C, D\n",
    "\n",
    "\n",
    "C, E , F, B\n",
    "\n",
    "\n",
    "**Sample Output 1:**<br/>\n",
    "['C', 'B']\n",
    "\n",
    "===================================================================\n",
    "\n",
    "**Sample Input 2:**<br/>\n",
    "1, 3, A, H, P\n",
    "\n",
    "\n",
    "A, G, 1, P, O\n",
    "\n",
    "\n",
    "**Sample Output 2:**<br/>\n",
    "['1', 'A', 'P']\n",
    "\n",
    "===================================================================\n"
   ]
  },
  {
   "cell_type": "code",
   "execution_count": 2,
   "metadata": {
    "id": "3iueGiPPGG66"
   },
   "outputs": [
    {
     "name": "stdout",
     "output_type": "stream",
     "text": [
      "How many number would you like to enter in list 1? 4\n",
      "Enter a Number: A\n",
      "Enter a Number: S\n",
      "Enter a Number: 1\n",
      "Enter a Number: D\n",
      "How many number would you like to enter in list 2? 4\n",
      "Enter a Number: D\n",
      "Enter a Number: 2\n",
      "Enter a Number: 6\n",
      "Enter a Number: 1\n",
      "['A', 'S', '1', 'D']\n",
      "['D', '2', '6', '1']\n",
      "['1', 'D']\n"
     ]
    }
   ],
   "source": [
    "# to do\n",
    "list_1=[]\n",
    "list_2=[]\n",
    "list_3=[]\n",
    "n=int(input(\"How many number would you like to enter in list 1? \"))\n",
    "for x in range(0,n):\n",
    "    a=input(\"Enter a Number: \")\n",
    "    list_1.append(a)\n",
    "n=int(input(\"How many number would you like to enter in list 2? \"))\n",
    "for x in range(0,n):\n",
    "    a=input(\"Enter a Number: \")\n",
    "    list_2.append(a)\n",
    "\n",
    "for x in list_1:\n",
    "    if x in list_2 :\n",
    "        list_3.append(x)\n",
    "print(list_1)\n",
    "print(list_2)\n",
    "print(list_3)"
   ]
  },
  {
   "cell_type": "markdown",
   "metadata": {
    "id": "tjcE5oitCM2s"
   },
   "source": [
    "### Task 15\n",
    "\n",
    "\n",
    "Write a Python program that reads 5 numbers into a list and prints the second largest number and its location or index position on the list. <font color='red'>[You are not allowed to use the max(), sort(), sorted() function here]</font>\n",
    "\n",
    "===================================================================\n",
    "\n",
    "**Sample Input:**\\\n",
    " 7, 13, 2, 10, 6\n",
    "\n",
    "**Sample Output:**\\\n",
    "My list: [7, 13, 2, 10, 6]\\\n",
    "Second largest number in the list is 10 which was found at index 3.\n",
    "\n",
    "==================================================================="
   ]
  },
  {
   "cell_type": "code",
   "execution_count": 1,
   "metadata": {
    "id": "b2TwkUqnGZU-"
   },
   "outputs": [
    {
     "name": "stdout",
     "output_type": "stream",
     "text": [
      "Enter a Number: 1\n",
      "Enter a Number: 15\n",
      "Enter a Number: 3\n",
      "Enter a Number: 13\n",
      "Enter a Number: 11\n",
      "My List:  [1, 15, 3, 13, 11]\n",
      "Second largest number in the list is  13  which was found at index 3\n"
     ]
    }
   ],
   "source": [
    "my_list=[]\n",
    "max_num=0\n",
    "max_ind=0\n",
    "max2_num=0\n",
    "max2_ind=0\n",
    "for x in range(0,5):\n",
    "    a=int(input(\"Enter a Number: \"))\n",
    "    my_list.append(a)\n",
    "for x in range(5):\n",
    "    if max_num<my_list[x]:\n",
    "        max2_num = max_num\n",
    "        max2_ind = max_ind\n",
    "        max_num=my_list[x]\n",
    "        max_ind=x\n",
    "    elif my_list[x]<max_num and my_list[x]>max2_num:\n",
    "        max2_num=my_list[x]\n",
    "        max2_ind=x\n",
    "    else:\n",
    "        continue\n",
    "print(\"My List: \",my_list)\n",
    "print(\"Second largest number in the list is \",max2_num,\" which was found at index\",max2_ind)"
   ]
  },
  {
   "cell_type": "code",
   "execution_count": null,
   "metadata": {},
   "outputs": [],
   "source": []
  }
 ],
 "metadata": {
  "colab": {
   "collapsed_sections": [],
   "name": "CSE110 Lab Assignment 4.ipynb",
   "provenance": []
  },
  "kernelspec": {
   "display_name": "Python 3",
   "language": "python",
   "name": "python3"
  },
  "language_info": {
   "codemirror_mode": {
    "name": "ipython",
    "version": 3
   },
   "file_extension": ".py",
   "mimetype": "text/x-python",
   "name": "python",
   "nbconvert_exporter": "python",
   "pygments_lexer": "ipython3",
   "version": "3.8.8"
  }
 },
 "nbformat": 4,
 "nbformat_minor": 1
}
